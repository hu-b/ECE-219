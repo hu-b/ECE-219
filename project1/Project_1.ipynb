{
 "cells": [
  {
   "cell_type": "markdown",
   "metadata": {},
   "source": [
    "# Project 1\n",
    "## Team members:\n",
    "### Nguyen N\n",
    "### Brandon H\n",
    "### Jennifer M\n",
    "### Sam Y"
   ]
  },
  {
   "cell_type": "code",
   "execution_count": 151,
   "metadata": {
    "collapsed": true
   },
   "outputs": [],
   "source": [
    "from sklearn.datasets import fetch_20newsgroups\n",
    "from matplotlib import pyplot as plt\n",
    "import numpy as np\n",
    "from numpy import array\n",
    "\n",
    "from sklearn.feature_extraction.text import CountVectorizer\n",
    "from sklearn.feature_extraction.text import TfidfTransformer\n",
    "\n",
    "from sklearn.decomposition import TruncatedSVD\n",
    "from sklearn.decomposition import NMF\n",
    "\n",
    "from sklearn.model_selection import GridSearchCV\n",
    "\n",
    "from sklearn.naive_bayes import MultinomialNB\n",
    "from sklearn.linear_model import LogisticRegression\n",
    "\n",
    "from sklearn import metrics\n",
    "from sklearn import svm\n",
    "from sklearn.svm import SVC # for problem 3\n",
    "\n",
    "from sklearn.metrics import confusion_matrix\n",
    "from sklearn.metrics import accuracy_score\n",
    "from sklearn.metrics import recall_score # recall scorer\n",
    "from sklearn.metrics import precision_score # precision scorer\n",
    "from sklearn.metrics import roc_curve # ROC curve\n",
    "from sklearn.metrics import f1_score # f1\n",
    "\n",
    "import nltk\n",
    "from nltk import pos_tag\n",
    "\n",
    "import pandas as pd\n"
   ]
  },
  {
   "cell_type": "markdown",
   "metadata": {},
   "source": [
    "# Getting familiar with the dataset"
   ]
  },
  {
   "cell_type": "code",
   "execution_count": 2,
   "metadata": {
    "collapsed": true
   },
   "outputs": [],
   "source": [
    "# from sklearn.datasets import fetch_20newsgroups\n",
    "# # Refer to the offcial document of scikit-learn for detailed usages:\n",
    "# # http://scikit-learn.org/stable/modules/generated/sklearn.datasets.fetch_20newsgroups.html\n",
    "# categories = ['comp.graphics', 'comp.sys.mac.hardware']\n",
    "# # The \n",
    "# twenty_train = fetch_20newsgroups(subset='train', # choose which subset of the dataset to use; can be 'train', 'test', 'all'\n",
    "# #                                   categories=categories, # choose the categories to load; if is `None`, load all categories\n",
    "#                                   shuffle=True,\n",
    "#                                   random_state=42, # set the seed of random number generator when shuffling to make the outcome repeatable across different runs\n",
    "# #                                   remove=['headers'],\n",
    "#                                  )\n",
    "# twenty_test = fetch_20newsgroups(subset='test',\n",
    "# #                                  categories=categories,\n",
    "#                                  shuffle=True,\n",
    "#                                  random_state=42)"
   ]
  },
  {
   "cell_type": "code",
   "execution_count": 3,
   "metadata": {
    "collapsed": true
   },
   "outputs": [],
   "source": [
    "# QUESTION 1: To get started, plot a histogram of the number of training documents\n",
    "# per category to check if they are evenly distributed.\n"
   ]
  },
  {
   "cell_type": "code",
   "execution_count": 54,
   "metadata": {
    "collapsed": true
   },
   "outputs": [],
   "source": [
    "computer_technology_subclasses = ['comp.graphics',\n",
    "                                  'comp.os.ms-windows.misc',\n",
    "                                  'comp.sys.ibm.pc.hardware',\n",
    "                                  'comp.sys.mac.hardware']\n",
    "\n",
    "recreational_activity_subclasses = ['rec.autos',\n",
    "                                    'rec.motorcycles',\n",
    "                                    'rec.sport.baseball',\n",
    "                                    'rec.sport.hockey']\n",
    "\n",
    "categories = computer_technology_subclasses + recreational_activity_subclasses"
   ]
  },
  {
   "cell_type": "code",
   "execution_count": 111,
   "metadata": {},
   "outputs": [],
   "source": [
    "train_dataset = fetch_20newsgroups(subset='train', categories=categories,\n",
    "shuffle=True, random_state=42, remove=('headers', 'footers'))\n",
    "\n",
    "test_dataset = fetch_20newsgroups(subset='test', categories=categories,\n",
    "shuffle=True, random_state=42, remove=('headers', 'footers'))\n",
    "\n",
    "comp_tech_train = fetch_20newsgroups(subset='train', categories=computer_technology_subclasses, shuffle=True, random_state=42, remove=('headers', 'footers'))\n",
    "rec_act_train = fetch_20newsgroups(subset='train', categories=recreational_activity_subclasses, shuffle=True, random_state=42, remove=('headers', 'footers'))\n",
    "comp_tech_test = fetch_20newsgroups(subset='test', categories=computer_technology_subclasses, shuffle=True, random_state=42, remove=('headers', 'footers'))\n",
    "rec_act_test = fetch_20newsgroups(subset='test', categories=recreational_activity_subclasses, shuffle=True, random_state=42, remove=('headers', 'footers'))\n",
    "\n",
    "\n",
    "# train_target_names = data_dict['Computer Technology Train']['target_names'] + data_dict['Recreational Activity Train']['target_names']\n",
    "\n",
    "# test_target = data_dict['Computer Technology Test']['target'] + data_dict['Recreational Activity Test']['target']\n",
    "# test_target_names = data_dict['Computer Technology Test']['target_names'] + data_dict['Recreational Activity Test']['target_names']\n",
    "\n"
   ]
  },
  {
   "cell_type": "code",
   "execution_count": 112,
   "metadata": {},
   "outputs": [],
   "source": [
    "def plot_histogram(dataset_target, dataset_target_names):\n",
    "    number_of_documents = []\n",
    "\n",
    "    for i in range(len(dataset_target_names)):\n",
    "        number_of_documents.append(len([x for x in dataset_target if x == i]))\n",
    "\n",
    "    #plot histogram\n",
    "    x_labels = dataset_target_names\n",
    "    fig, ax = plt.subplots()\n",
    "    ax.set_xticks([i+0.35 for i in range(1,9)])\n",
    "    ax.set_xticklabels(x_labels, rotation=45, ha='right', fontsize = 12)\n",
    "\n",
    "    rects = plt.bar([i for i in range(1,9)], number_of_documents, align='edge')\n",
    "    plt.xlabel('Topics', fontsize = 14)\n",
    "    plt.ylabel('Number of Documents', fontsize = 14)\n",
    "    plt.title('Number of documents per topic ', fontsize = 18)\n",
    "    plt.axis([0.5,9,0,1100])\n",
    "\n",
    "    for rect in rects:\n",
    "        height = rect.get_height()\n",
    "        ax.text(rect.get_x() + rect.get_width()/2., 1*height, '%d' % int(height), ha='center', va='bottom')\n",
    "    print('Length: ' + str(len(dataset_target)))\n",
    "    plt.show()\n"
   ]
  },
  {
   "cell_type": "code",
   "execution_count": 113,
   "metadata": {},
   "outputs": [
    {
     "name": "stdout",
     "output_type": "stream",
     "text": [
      "Train Dataset\n",
      "Length: 4732\n"
     ]
    },
    {
     "data": {
      "image/png": "[encoded data removed]",
      "text/plain": [
       "<matplotlib.figure.Figure at 0x11707bef0>"
      ]
     },
     "metadata": {},
     "output_type": "display_data"
    },
    {
     "name": "stdout",
     "output_type": "stream",
     "text": [
      "Test Dataset\n",
      "Length: 3150\n"
     ]
    },
    {
     "data": {
      "image/png": "[encoded data removed]",
      "text/plain": [
       "<matplotlib.figure.Figure at 0x1172713c8>"
      ]
     },
     "metadata": {},
     "output_type": "display_data"
    }
   ],
   "source": [
    "print('Train Dataset')\n",
    "plot_histogram(train_dataset.target, train_dataset.target_names)\n",
    "\n",
    "print('Test Dataset')\n",
    "plot_histogram(test_dataset.target, test_dataset.target_names)"
   ]
  },
  {
   "cell_type": "markdown",
   "metadata": {},
   "source": [
    "# Binary Classification"
   ]
  },
  {
   "cell_type": "markdown",
   "metadata": {
    "collapsed": true
   },
   "source": [
    "## 1. Feature Extraction"
   ]
  },
  {
   "cell_type": "code",
   "execution_count": 97,
   "metadata": {
    "collapsed": true
   },
   "outputs": [],
   "source": [
    "# QUESTION 2: Use the following specs to extract features from the textual data:\n",
    "# • Use the default stopwords of the CountVectorizer\n",
    "# • Exclude terms that are numbers (e.g. “123”, “-45”, “6.7” etc.)\n",
    "# • Perform lemmatization with nltk.wordnet.WordNetLemmatizer and pos_tag\n",
    "# • Use min_df=3\n",
    "# Report the shape of the TF-IDF matrices of the train and test subsets respectively."
   ]
  },
  {
   "cell_type": "code",
   "execution_count": 98,
   "metadata": {
    "collapsed": true
   },
   "outputs": [],
   "source": [
    "# we need to Lemmatize this.\n",
    "def penn2morphy(penntag):\n",
    "    \"\"\" Converts Penn Treebank tags to WordNet. \"\"\"\n",
    "    morphy_tag = {'NN':'n', 'JJ':'a',\n",
    "                  'VB':'v', 'RB':'r'}\n",
    "    try:\n",
    "        return morphy_tag[penntag[:2]]\n",
    "    except:\n",
    "        return 'n' \n",
    "    \n",
    "def lemmatize_parse(text):\n",
    "    wnl = nltk.wordnet.WordNetLemmatizer()\n",
    "    lemmatize = []\n",
    "    for word, tag in pos_tag(nltk.word_tokenize(text)):\n",
    "        if(word.isdigit() or word.isalpha()):\n",
    "            lemmatize.append(wnl.lemmatize(word.lower(), pos=penn2morphy(tag)))\n",
    "    return lemmatize"
   ]
  },
  {
   "cell_type": "code",
   "execution_count": 26,
   "metadata": {
    "collapsed": true
   },
   "outputs": [],
   "source": [
    "# set lemmatize \n",
    "\n",
    "train_data_lemmatized = []\n",
    "for item in train_dataset.data:\n",
    "    train_data_lemmatized.append(' '.join(lemmatize_parse(item)))\n",
    "    \n",
    "test_dataset_lemmatized = []\n",
    "for item in test_dataset.data:\n",
    "    test_dataset_lemmatized.append(' '.join(lemmatize_parse(item)))\n",
    "    \n",
    "train_dataset.data = train_data_lemmatized\n",
    "test_dataset.data = test_dataset_lemmatized"
   ]
  },
  {
   "cell_type": "code",
   "execution_count": 99,
   "metadata": {
    "collapsed": true
   },
   "outputs": [],
   "source": [
    "# vectorize - fit and transform\n",
    "vectorizer = CountVectorizer(min_df=3, stop_words='english')\n",
    "X_train_counts = vectorizer.fit_transform(train_dataset.data)\n",
    "X_test_counts = vectorizer.transform(test_dataset.data)"
   ]
  },
  {
   "cell_type": "code",
   "execution_count": 100,
   "metadata": {
    "collapsed": true
   },
   "outputs": [],
   "source": [
    "# generate TFxIDF\n",
    "tfidf_transformer = TfidfTransformer()\n",
    "X_train_tfidf = tfidf_transformer.fit_transform(X_train_counts)\n",
    "X_test_tfidf = tfidf_transformer.fit_transform(X_test_counts)\n"
   ]
  },
  {
   "cell_type": "code",
   "execution_count": 101,
   "metadata": {},
   "outputs": [
    {
     "data": {
      "text/plain": [
       "(4732, 20297)"
      ]
     },
     "execution_count": 101,
     "metadata": {},
     "output_type": "execute_result"
    }
   ],
   "source": [
    "X_train_tfidf.shape"
   ]
  },
  {
   "cell_type": "code",
   "execution_count": 102,
   "metadata": {},
   "outputs": [
    {
     "data": {
      "text/plain": [
       "(3150, 20297)"
      ]
     },
     "execution_count": 102,
     "metadata": {},
     "output_type": "execute_result"
    }
   ],
   "source": [
    "X_test_tfidf.shape"
   ]
  },
  {
   "cell_type": "markdown",
   "metadata": {},
   "source": [
    "## 2. Dimensionality Reduction"
   ]
  },
  {
   "cell_type": "code",
   "execution_count": 31,
   "metadata": {
    "collapsed": true
   },
   "outputs": [],
   "source": [
    "# QUESTION 3: Reduce the dimensionality of the data using the methods above\n",
    "# • Apply LSI to the TF-IDF matrix corresponding to the 8 categories with k = 50;\n",
    "# so each document is mapped to a 50-dimensional vector.\n",
    "# • Also reduce dimensionality through NMF and compare with LSI:\n",
    "# Which one is larger?"
   ]
  },
  {
   "cell_type": "code",
   "execution_count": 118,
   "metadata": {},
   "outputs": [
    {
     "name": "stdout",
     "output_type": "stream",
     "text": [
      "LSI train:\n",
      "(4732, 50)\n",
      "LSI test:\n",
      "(3150, 50)\n",
      "\n",
      "NMF train:\n",
      "(4732, 50)\n",
      "NMF test:\n",
      "(3150, 50)\n",
      "\n"
     ]
    }
   ],
   "source": [
    "# using LSI\n",
    "lsi = TruncatedSVD(n_components = 50,n_iter = 10, random_state = 42)\n",
    "lsi_train = lsi.fit_transform(X_train_tfidf)\n",
    "lsi_test = lsi.fit_transform(X_test_tfidf)\n",
    "print('LSI train:')\n",
    "print(lsi_train.shape)\n",
    "print('LSI test:')\n",
    "print(lsi_test.shape)\n",
    "print('')\n",
    "\n",
    "# using NMF\n",
    "nmf = NMF(n_components=50, init='random', random_state=42)\n",
    "nmf_train = nmf.fit_transform(X_train_tfidf)\n",
    "nmf_test = nmf.fit_transform(X_test_tfidf)\n",
    "print('NMF train:')\n",
    "print(nmf_train.shape)\n",
    "print('NMF test:')\n",
    "print(nmf_test.shape)\n",
    "print('')\n"
   ]
  },
  {
   "cell_type": "code",
   "execution_count": 406,
   "metadata": {
    "collapsed": true
   },
   "outputs": [],
   "source": [
    "# QUESTION 4: Hard margin and soft margin linear SVMs:\n",
    "# • Train two linear SVMs and compare:\n",
    "# – Train one SVM with y= 1000 (hard margin), another with y= 0:0001 (soft margin).\n",
    "# – Plot the ROC curve, report the confusion matrix and calculate the accuracy,\n",
    "# recall, precision and F-1 score of both SVM classifier. Which\n",
    "# one performs better?\n",
    "# – What happens for the soft margin SVM? Why is the case?\n",
    "# • Use cross-validation to choose y:\n",
    "# Using a 5-fold cross-validation, find the best value of the parameter \n",
    "#  in the range f10kj 􀀀 3 \u0014 k \u0014 3; k 2 Zg. Again, plot the ROC curve and report the\n",
    "# confusion matrix and calculate"
   ]
  },
  {
   "cell_type": "code",
   "execution_count": 119,
   "metadata": {
    "collapsed": true
   },
   "outputs": [],
   "source": [
    "# # methods = ['LSI', 'NMF']\n",
    "# # min_df = [3]\n",
    "# # fprs = []\n",
    "# # tprs = []\n",
    "# # conf_matrices = []\n",
    "\n",
    "# def predict(methods, lsi_train, lsi_test, nmf_train, nmf_test, train_dataset):\n",
    "#     for method in methods:\n",
    "#         for ga in [1000, 0.001]:\n",
    "#             if method.upper() == 'LSI':\n",
    "#                 svc = svm.SVC(gamma = ga, kernel='linear', probability = True)\n",
    "#                 svc.fit(lsi_train, )\n",
    "            \n",
    "#         #Use the SVC method and enable probability estimates\n",
    "#         svc = \n",
    "#         #fitting the model\n",
    "#         svc.fit()\n",
    "        "
   ]
  },
  {
   "cell_type": "code",
   "execution_count": 178,
   "metadata": {},
   "outputs": [],
   "source": [
    "svc_hard = svm.SVC(gamma = 1000, kernel='linear', probability = True)\n",
    "svc_hard.fit(lsi_train, train_dataset.target)\n",
    "\n",
    "predicted = svc_hard.predict(lsi_test)"
   ]
  },
  {
   "cell_type": "code",
   "execution_count": 179,
   "metadata": {},
   "outputs": [
    {
     "name": "stdout",
     "output_type": "stream",
     "text": [
      "Accuracy: 0.306984126984\n",
      "Precision: 0.327939912229\n",
      "Recall: 0.306984126984\n",
      "F-1 Score: 0.311637204639\n",
      "Predicted    0    1    2    3    4    5    6    7   All\n",
      "True                                                   \n",
      "0           38   28  225   30   53   10    4    1   389\n",
      "1           86  205   62   25    8    6    0    2   394\n",
      "2           50   14   92  158   43   27    7    1   392\n",
      "3           55    3   45  120   44  111    7    0   385\n",
      "4            4    2   80   14   80  135   49   32   396\n",
      "5           35    0   76   83   51   30   47   76   398\n",
      "6            3    2    2    4   27   58  208   93   397\n",
      "7            4    2    1   17   28   17  136  194   399\n",
      "All        275  256  583  451  334  394  458  399  3150\n"
     ]
    }
   ],
   "source": [
    "print('Accuracy: ' + str(metrics.accuracy_score(test_dataset['target'].ravel(), predicted)))\n",
    "print('Precision: ' + str(metrics.precision_score(test_dataset['target'].ravel(), predicted, average='weighted')))\n",
    "print('Recall: ' + str(metrics.recall_score(test_dataset['target'].ravel(), predicted, average='weighted')))\n",
    "print('F-1 Score: ' + str(metrics.f1_score(test_dataset['target'].ravel(), predicted, average='weighted')))\n",
    "print(pd.crosstab(test_dataset['target'].ravel(), predicted, rownames=['True'], colnames=['Predicted'], margins=True))"
   ]
  },
  {
   "cell_type": "code",
   "execution_count": 180,
   "metadata": {
    "collapsed": true
   },
   "outputs": [],
   "source": [
    "svc_soft = svm.SVC(gamma = 0.0001, kernel='linear', probability = True)\n",
    "svc_soft.fit(lsi_train, train_dataset.target)\n",
    "\n",
    "predicted = svc_soft.predict(lsi_test)"
   ]
  },
  {
   "cell_type": "code",
   "execution_count": 181,
   "metadata": {},
   "outputs": [
    {
     "name": "stdout",
     "output_type": "stream",
     "text": [
      "Accuracy: 0.306984126984\n",
      "Precision: 0.327939912229\n",
      "Recall: 0.306984126984\n",
      "F-1 Score: 0.311637204639\n",
      "Predicted    0    1    2    3    4    5    6    7   All\n",
      "True                                                   \n",
      "0           38   28  225   30   53   10    4    1   389\n",
      "1           86  205   62   25    8    6    0    2   394\n",
      "2           50   14   92  158   43   27    7    1   392\n",
      "3           55    3   45  120   44  111    7    0   385\n",
      "4            4    2   80   14   80  135   49   32   396\n",
      "5           35    0   76   83   51   30   47   76   398\n",
      "6            3    2    2    4   27   58  208   93   397\n",
      "7            4    2    1   17   28   17  136  194   399\n",
      "All        275  256  583  451  334  394  458  399  3150\n"
     ]
    }
   ],
   "source": [
    "print('Accuracy: ' + str(metrics.accuracy_score(test_dataset['target'].ravel(), predicted)))\n",
    "print('Precision: ' + str(metrics.precision_score(test_dataset['target'].ravel(), predicted, average='weighted')))\n",
    "print('Recall: ' + str(metrics.recall_score(test_dataset['target'].ravel(), predicted, average='weighted')))\n",
    "print('F-1 Score: ' + str(metrics.f1_score(test_dataset['target'].ravel(), predicted, average='weighted')))\n",
    "print(pd.crosstab(test_dataset['target'].ravel(), predicted, rownames=['True'], colnames=['Predicted'], margins=True))"
   ]
  },
  {
   "cell_type": "code",
   "execution_count": 183,
   "metadata": {
    "collapsed": true
   },
   "outputs": [],
   "source": [
    "svc_hard = svm.SVC(gamma = 1000, kernel='linear', probability = True)\n",
    "svc_hard.fit(nmf_train, train_dataset.target)\n",
    "\n",
    "predicted = svc_hard.predict(nmf_test)"
   ]
  },
  {
   "cell_type": "code",
   "execution_count": 184,
   "metadata": {},
   "outputs": [
    {
     "name": "stdout",
     "output_type": "stream",
     "text": [
      "Accuracy: 0.249523809524\n",
      "Precision: 0.271092204761\n",
      "Recall: 0.249523809524\n",
      "F-1 Score: 0.238644525442\n",
      "Predicted    0    1    2    3    4    5    6    7   All\n",
      "True                                                   \n",
      "0          144    9    7   17   82   97    0   33   389\n",
      "1          120   78   25   44   63   42    0   22   394\n",
      "2           44   29  125   30   87   46    0   31   392\n",
      "3           48    1   80   55   58   67    8   68   385\n",
      "4           10    2    0   15  210  124   26    9   396\n",
      "5           16    9   27    3   91   66  126   60   398\n",
      "6          185    4    2   53   85   47    0   21   397\n",
      "7          109    0    0  104   45   33    0  108   399\n",
      "All        676  132  266  321  721  522  160  352  3150\n"
     ]
    }
   ],
   "source": [
    "print('Accuracy: ' + str(metrics.accuracy_score(test_dataset['target'].ravel(), predicted)))\n",
    "print('Precision: ' + str(metrics.precision_score(test_dataset['target'].ravel(), predicted, average='weighted')))\n",
    "print('Recall: ' + str(metrics.recall_score(test_dataset['target'].ravel(), predicted, average='weighted')))\n",
    "print('F-1 Score: ' + str(metrics.f1_score(test_dataset['target'].ravel(), predicted, average='weighted')))\n",
    "print(pd.crosstab(test_dataset['target'].ravel(), predicted, rownames=['True'], colnames=['Predicted'], margins=True))"
   ]
  },
  {
   "cell_type": "code",
   "execution_count": 185,
   "metadata": {
    "collapsed": true
   },
   "outputs": [],
   "source": [
    "svc_soft = svm.SVC(gamma = 0.0001, kernel='linear', probability = True)\n",
    "svc_soft.fit(nmf_train, train_dataset.target)\n",
    "\n",
    "predicted = svc_soft.predict(nmf_test)"
   ]
  },
  {
   "cell_type": "code",
   "execution_count": 186,
   "metadata": {},
   "outputs": [
    {
     "name": "stdout",
     "output_type": "stream",
     "text": [
      "Accuracy: 0.249523809524\n",
      "Precision: 0.271092204761\n",
      "Recall: 0.249523809524\n",
      "F-1 Score: 0.238644525442\n",
      "Predicted    0    1    2    3    4    5    6    7   All\n",
      "True                                                   \n",
      "0          144    9    7   17   82   97    0   33   389\n",
      "1          120   78   25   44   63   42    0   22   394\n",
      "2           44   29  125   30   87   46    0   31   392\n",
      "3           48    1   80   55   58   67    8   68   385\n",
      "4           10    2    0   15  210  124   26    9   396\n",
      "5           16    9   27    3   91   66  126   60   398\n",
      "6          185    4    2   53   85   47    0   21   397\n",
      "7          109    0    0  104   45   33    0  108   399\n",
      "All        676  132  266  321  721  522  160  352  3150\n"
     ]
    }
   ],
   "source": [
    "print('Accuracy: ' + str(metrics.accuracy_score(test_dataset['target'].ravel(), predicted)))\n",
    "print('Precision: ' + str(metrics.precision_score(test_dataset['target'].ravel(), predicted, average='weighted')))\n",
    "print('Recall: ' + str(metrics.recall_score(test_dataset['target'].ravel(), predicted, average='weighted')))\n",
    "print('F-1 Score: ' + str(metrics.f1_score(test_dataset['target'].ravel(), predicted, average='weighted')))\n",
    "print(pd.crosstab(test_dataset['target'].ravel(), predicted, rownames=['True'], colnames=['Predicted'], margins=True))"
   ]
  },
  {
   "cell_type": "code",
   "execution_count": null,
   "metadata": {
    "collapsed": true
   },
   "outputs": [],
   "source": []
  },
  {
   "cell_type": "code",
   "execution_count": null,
   "metadata": {
    "collapsed": true
   },
   "outputs": [],
   "source": []
  },
  {
   "cell_type": "code",
   "execution_count": null,
   "metadata": {
    "collapsed": true
   },
   "outputs": [],
   "source": []
  },
  {
   "cell_type": "markdown",
   "metadata": {},
   "source": [
    "# roc curve plotting functions"
   ]
  },
  {
   "cell_type": "code",
   "execution_count": 1,
   "metadata": {
    "collapsed": true
   },
   "outputs": [],
   "source": [
    "def plot_roc(fpr, tpr):\n",
    "    fig, ax = plt.subplots()\n",
    "\n",
    "    roc_auc = auc(fpr,tpr)\n",
    "\n",
    "    ax.plot(fpr, tpr, lw=2, label= 'area under curve = %0.4f' % roc_auc)\n",
    "\n",
    "    ax.grid(color='0.7', linestyle='--', linewidth=1)\n",
    "\n",
    "    ax.set_xlim([-0.1, 1.1])\n",
    "    ax.set_ylim([0.0, 1.05])\n",
    "    ax.set_xlabel('False Positive Rate',fontsize=15)\n",
    "    ax.set_ylabel('True Positive Rate',fontsize=15)\n",
    "\n",
    "    ax.legend(loc=\"lower right\")\n",
    "\n",
    "    for label in ax.get_xticklabels()+ax.get_yticklabels():\n",
    "        label.set_fontsize(15)\n",
    "\n",
    "def fit_predict_and_plot_roc(pipe, train_data, train_label, test_data, test_label):\n",
    "    pipe.fit(train_data, train_label)\n",
    "    # pipeline1.predict(twenty_test.data)\n",
    "\n",
    "    prob_score = pipe.predict_proba(test_data)\n",
    "\n",
    "    fpr, tpr, _ = roc_curve(test_label, prob_score[:,1])\n",
    "\n",
    "    plot_roc(fpr, tpr)\n",
    "    return pipe\n",
    "\n",
    "# EXAMPLE USE:\n",
    "# fit_predict_and_plot_roc(pipeline1, twenty_train.data, twenty_train.target, twenty_test.data, twenty_test.target)"
   ]
  },
  {
   "cell_type": "code",
   "execution_count": 408,
   "metadata": {},
   "outputs": [
    {
     "data": {
      "text/plain": [
       "SVC(C=1.0, cache_size=200, class_weight=None, coef0=0.0,\n",
       "  decision_function_shape=None, degree=3, gamma=1000, kernel='rbf',\n",
       "  max_iter=-1, probability=False, random_state=None, shrinking=True,\n",
       "  tol=0.001, verbose=False)"
      ]
     },
     "execution_count": 408,
     "metadata": {},
     "output_type": "execute_result"
    }
   ],
   "source": [
    "#hard margin\n",
    "hard_svm = svm.SVC(kernel='linear', gamma = 1000)\n",
    "hard_svm.fit(X_train_tfidf, train_dataset.target)\n"
   ]
  },
  {
   "cell_type": "code",
   "execution_count": 409,
   "metadata": {
    "collapsed": true
   },
   "outputs": [],
   "source": [
    "predicted = hard_svm.predict(X_test_tfidf.toarray())"
   ]
  },
  {
   "cell_type": "code",
   "execution_count": 410,
   "metadata": {},
   "outputs": [
    {
     "data": {
      "text/html": [
       "<div>\n",
       "<style>\n",
       "    .dataframe thead tr:only-child th {\n",
       "        text-align: right;\n",
       "    }\n",
       "\n",
       "    .dataframe thead th {\n",
       "        text-align: left;\n",
       "    }\n",
       "\n",
       "    .dataframe tbody tr th {\n",
       "        vertical-align: top;\n",
       "    }\n",
       "</style>\n",
       "<table border=\"1\" class=\"dataframe\">\n",
       "  <thead>\n",
       "    <tr style=\"text-align: right;\">\n",
       "      <th>Predicted</th>\n",
       "      <th>0</th>\n",
       "      <th>7</th>\n",
       "      <th>All</th>\n",
       "    </tr>\n",
       "    <tr>\n",
       "      <th>True</th>\n",
       "      <th></th>\n",
       "      <th></th>\n",
       "      <th></th>\n",
       "    </tr>\n",
       "  </thead>\n",
       "  <tbody>\n",
       "    <tr>\n",
       "      <th>0</th>\n",
       "      <td>4</td>\n",
       "      <td>385</td>\n",
       "      <td>389</td>\n",
       "    </tr>\n",
       "    <tr>\n",
       "      <th>1</th>\n",
       "      <td>0</td>\n",
       "      <td>394</td>\n",
       "      <td>394</td>\n",
       "    </tr>\n",
       "    <tr>\n",
       "      <th>2</th>\n",
       "      <td>0</td>\n",
       "      <td>392</td>\n",
       "      <td>392</td>\n",
       "    </tr>\n",
       "    <tr>\n",
       "      <th>3</th>\n",
       "      <td>0</td>\n",
       "      <td>385</td>\n",
       "      <td>385</td>\n",
       "    </tr>\n",
       "    <tr>\n",
       "      <th>4</th>\n",
       "      <td>0</td>\n",
       "      <td>396</td>\n",
       "      <td>396</td>\n",
       "    </tr>\n",
       "    <tr>\n",
       "      <th>5</th>\n",
       "      <td>0</td>\n",
       "      <td>398</td>\n",
       "      <td>398</td>\n",
       "    </tr>\n",
       "    <tr>\n",
       "      <th>6</th>\n",
       "      <td>0</td>\n",
       "      <td>397</td>\n",
       "      <td>397</td>\n",
       "    </tr>\n",
       "    <tr>\n",
       "      <th>7</th>\n",
       "      <td>0</td>\n",
       "      <td>399</td>\n",
       "      <td>399</td>\n",
       "    </tr>\n",
       "    <tr>\n",
       "      <th>All</th>\n",
       "      <td>4</td>\n",
       "      <td>3146</td>\n",
       "      <td>3150</td>\n",
       "    </tr>\n",
       "  </tbody>\n",
       "</table>\n",
       "</div>"
      ],
      "text/plain": [
       "Predicted  0     7   All\n",
       "True                    \n",
       "0          4   385   389\n",
       "1          0   394   394\n",
       "2          0   392   392\n",
       "3          0   385   385\n",
       "4          0   396   396\n",
       "5          0   398   398\n",
       "6          0   397   397\n",
       "7          0   399   399\n",
       "All        4  3146  3150"
      ]
     },
     "execution_count": 410,
     "metadata": {},
     "output_type": "execute_result"
    }
   ],
   "source": [
    "pd.crosstab(test_dataset['target'].ravel(), predicted, rownames=['True'], colnames=['Predicted'], margins=True)"
   ]
  },
  {
   "cell_type": "code",
   "execution_count": 18,
   "metadata": {
    "collapsed": true
   },
   "outputs": [],
   "source": [
    "# soft-margin SVC\n",
    "svc_softmargin = SVC(kernel='linear', gamma=0.0001)"
   ]
  },
  {
   "cell_type": "code",
   "execution_count": 16,
   "metadata": {
    "collapsed": true
   },
   "outputs": [],
   "source": [
    "# combined X training matrices for iteraiton\n",
    "X_news = [X_train_tfidf, svd_res, nmf_res]\n",
    "# X_news_test = [X_test_tfidf, , ]\n",
    "# y training\n",
    "y_news = train_dataset.target\n",
    "# y_test\n",
    "y_news_test = test_dataset.target"
   ]
  },
  {
   "cell_type": "code",
   "execution_count": 27,
   "metadata": {},
   "outputs": [
    {
     "name": "stdout",
     "output_type": "stream",
     "text": [
      "Training-set SVC Soft-margin TFIDF Confusion matrix: [[574   5   4   1   0   0   0   0]\n",
      " [  6 577   6   2   0   0   0   0]\n",
      " [  4  11 574   1   0   0   0   0]\n",
      " [  3   0   5 570   0   0   0   0]\n",
      " [  2   0   0   1 591   0   0   0]\n",
      " [  3   0   1   1   0 593   0   0]\n",
      " [  2   0   0   0   0   0 595   0]\n",
      " [  1   0   0   2   1   0   0 596]]\n",
      "Training-set SVC Soft-margin TFIDF Accuracy Score: 0.9868977176669484\n",
      "Training-set SVC Soft-margin LSI Confusion matrix: [[484  40  26  15   8   1   9   1]\n",
      " [ 80 437  51   9   6   3   5   0]\n",
      " [ 57  53 422  41  10   1   6   0]\n",
      " [ 36  16  82 428   6   5   5   0]\n",
      " [ 19   8  12   1 516  26  12   0]\n",
      " [  6   4   5   2  36 533  11   1]\n",
      " [  8   3   1   0   2   2 567  14]\n",
      " [  4   0   8   0   8   1  30 549]]\n",
      "Training-set SVC Soft-margin LSI Accuracy Score: 0.8317836010143702\n",
      "Training-set SVC Soft-margin NMF Confusion matrix: [[451  49  42  17  13   0  12   0]\n",
      " [127 337 107   6   4   0   8   2]\n",
      " [ 73  26 448  22  15   0   6   0]\n",
      " [ 53  11 216 283   6   0   9   0]\n",
      " [ 42   5  39   9 448  17  33   1]\n",
      " [ 30   5  15   2  39 480  27   0]\n",
      " [ 44   1   4   1  13   0 493  41]\n",
      " [ 26   0   3   1   9   0  65 496]]\n",
      "Training-set SVC Soft-margin NMF Accuracy Score: 0.7261200338123415\n"
     ]
    }
   ],
   "source": [
    "# print out SVC soft-margin ROC, Confusion, Accuracy, Recall, Precision for tfidf, lsi, nmf datasets\n",
    "labels = ['TFIDF', 'LSI', 'NMF']\n",
    "for idx, x in enumerate(X_news):\n",
    "    svc_softmargin.fit(x, y_news)\n",
    "    svc_softmargin_pred = svc_softmargin.predict(x)\n",
    "    #svc_softmargin_roc = roc_curve(y_true=y_news, y_score=svc_softmargin_pred)\n",
    "    svc_softmargin_confusion = confusion_matrix(y_true=y_news, y_pred=svc_softmargin_pred)\n",
    "    svc_softmargin_accuracy = accuracy_score(y_true=y_news, y_pred=svc_softmargin_pred)\n",
    "    #svc_softmargin_recall = recall_score(y_true=y_news, y_pred=svc_softmargin_pred, average='samples')\n",
    "    #svc_softmargin_precision = precision_score(y_true=y_news, y_pred=svc_softmargin_pred)\n",
    "    #svc_softmargin_f1 = f1_score(y_true=y_news, y_pred=svc_softmargin_pred)\n",
    "    #print(\"Training-set SVC Soft-margin \" + labels[idx] + \" ROC curve: \" + svc_softmargin_roc)\n",
    "    print(\"Training-set SVC Soft-margin \" + labels[idx] + \" Confusion matrix: \" + str(svc_softmargin_confusion))\n",
    "    print(\"Training-set SVC Soft-margin \" + labels[idx] + \" Accuracy Score: \" + str(svc_softmargin_accuracy))\n",
    "    #print(\"Training-set SVC Soft-margin \" + labels[idx] + \" Recall Score: \" + svc_softmargin_recall)\n",
    "    #print(\"Training-set SVC Soft-margin \" + labels[idx] + \" Precision Score: \" + svc_softmargin_precision)\n",
    "    #print(\"Training-set SVC Soft-margin \" + labels[idx] + \" F1 Score: \" + svc_softmargin_f1)"
   ]
  },
  {
   "cell_type": "markdown",
   "metadata": {},
   "source": [
    "# GridSearchCV"
   ]
  },
  {
   "cell_type": "code",
   "execution_count": 30,
   "metadata": {},
   "outputs": [
    {
     "ename": "NameError",
     "evalue": "name 'X_tfidf' is not defined",
     "output_type": "error",
     "traceback": [
      "\u001b[0;31m---------------------------------------------------------------------------\u001b[0m",
      "\u001b[0;31mNameError\u001b[0m                                 Traceback (most recent call last)",
      "\u001b[0;32m<ipython-input-30-7250a8a18ac4>\u001b[0m in \u001b[0;36m<module>\u001b[0;34m()\u001b[0m\n\u001b[1;32m      3\u001b[0m \u001b[0mparam_grid\u001b[0m \u001b[0;34m=\u001b[0m \u001b[0;34m{\u001b[0m\u001b[0;34m'gamma'\u001b[0m\u001b[0;34m:\u001b[0m\u001b[0mnp\u001b[0m\u001b[0;34m.\u001b[0m\u001b[0marange\u001b[0m\u001b[0;34m(\u001b[0m\u001b[0;36m0.001\u001b[0m\u001b[0;34m,\u001b[0m \u001b[0;36m1000\u001b[0m\u001b[0;34m)\u001b[0m\u001b[0;34m}\u001b[0m\u001b[0;34m\u001b[0m\u001b[0m\n\u001b[1;32m      4\u001b[0m \u001b[0mgs_svc\u001b[0m \u001b[0;34m=\u001b[0m \u001b[0mGridSearchCV\u001b[0m\u001b[0;34m(\u001b[0m\u001b[0mestimator\u001b[0m\u001b[0;34m=\u001b[0m\u001b[0msvc\u001b[0m\u001b[0;34m,\u001b[0m \u001b[0mparam_grid\u001b[0m\u001b[0;34m=\u001b[0m\u001b[0mparam_grid\u001b[0m\u001b[0;34m,\u001b[0m \u001b[0mcv\u001b[0m\u001b[0;34m=\u001b[0m\u001b[0;36m5\u001b[0m\u001b[0;34m,\u001b[0m \u001b[0mscoring\u001b[0m\u001b[0;34m=\u001b[0m\u001b[0;34m'accuracy'\u001b[0m\u001b[0;34m)\u001b[0m\u001b[0;34m\u001b[0m\u001b[0m\n\u001b[0;32m----> 5\u001b[0;31m \u001b[0mgs_svc\u001b[0m\u001b[0;34m.\u001b[0m\u001b[0mfit\u001b[0m\u001b[0;34m(\u001b[0m\u001b[0mX_tfidf\u001b[0m\u001b[0;34m,\u001b[0m \u001b[0my_news\u001b[0m\u001b[0;34m)\u001b[0m\u001b[0;34m\u001b[0m\u001b[0m\n\u001b[0m\u001b[1;32m      6\u001b[0m \u001b[0;31m# best gamma:\u001b[0m\u001b[0;34m\u001b[0m\u001b[0;34m\u001b[0m\u001b[0m\n\u001b[1;32m      7\u001b[0m \u001b[0mbest_gamma\u001b[0m \u001b[0;34m=\u001b[0m \u001b[0mgs_svc\u001b[0m\u001b[0;34m.\u001b[0m\u001b[0mbest_estimator_\u001b[0m\u001b[0;34m\u001b[0m\u001b[0m\n",
      "\u001b[0;31mNameError\u001b[0m: name 'X_tfidf' is not defined"
     ]
    }
   ],
   "source": [
    "# GridSearch, 5-fold CV\n",
    "svc = SVC()\n",
    "param_grid = {'gamma':np.arange(0.001, 1000)}\n",
    "gs_svc = GridSearchCV(estimator=svc, param_grid=param_grid, cv=5, scoring='accuracy')\n",
    "gs_svc.fit(X_tfidf, y_news)\n",
    "# best gamma:\n",
    "best_gamma = gs_svc.best_estimator_\n",
    "print(\"Optimal gamma for SVC: \" + best_gamma)"
   ]
  },
  {
   "cell_type": "code",
   "execution_count": null,
   "metadata": {
    "collapsed": true
   },
   "outputs": [],
   "source": [
    "# SVC using best gamma for dataset\n",
    "svc_bestgamma = SVC(gamma=best_gamma)"
   ]
  },
  {
   "cell_type": "code",
   "execution_count": null,
   "metadata": {
    "collapsed": true
   },
   "outputs": [],
   "source": [
    "for idx, x in enumerate(X_news):\n",
    "    svc_bestgamma.fit(x, y_news)\n",
    "    svc_bestgamma_pred = svc_bestgamma.predict(x)\n",
    "    #svc_bestgamma_roc = roc_curve(y_true=y_news, y_score=svc_bestgamma_pred)\n",
    "    svc_bestgamma_confusion = confusion_matrix(y_true=y_news, y_pred=svc_bestgamma_pred)\n",
    "    svc_bestgamma_accuracy = accuracy_score(y_true=y_news, y_pred=svc_bestgamma_pred)\n",
    "    #svc_bestgamma_recall = recall_score(y_true=y_news, y_pred=svc_bestgamma_pred)\n",
    "    #svc_bestgamma_precision = precision_score(y_true=y_news, y_pred=svc_bestgamma_pred)\n",
    "    #svc_bestgamma_f1 = f1_score(y_true=y_news, y_pred=svc_bestgamma_pred)\n",
    "    #print(\"SVC Best-gamma \" + labels[idx] + \" ROC curve: \" + svc_bestgamma_roc)\n",
    "    print(\"SVC Best-gamma \" + labels[idx] + \" Confusion matrix: \" + str(svc_bestgamma_confusion))\n",
    "    print(\"SVC Best-gamma \" + labels[idx] + \" Accuracy Score: \" + str(svc_bestgamma_accuracy))\n",
    "    #print(\"SVC Best-gamma \" + labels[idx] + \" Recall Score: \" + str(svc_bestgamma_recall))\n",
    "    #print(\"SVC Best-gamma \" + labels[idx] + \" Precision Score: \" + str(svc_bestgamma_precision))\n",
    "    #print(\"Training-set SVC Best-gamma \" + labels[idx] + \" F1 Score: \" + str(svc_bestgamma_f1))"
   ]
  },
  {
   "cell_type": "markdown",
   "metadata": {
    "collapsed": true
   },
   "source": [
    "# NaiveBayes Classifier"
   ]
  },
  {
   "cell_type": "code",
   "execution_count": 34,
   "metadata": {},
   "outputs": [
    {
     "name": "stdout",
     "output_type": "stream",
     "text": [
      "Multinomial Naive Bayes TFIDF Confusion matrix: [[546  10  17   5   0   2   0   4]\n",
      " [  9 545  33   1   0   0   1   2]\n",
      " [  9  18 553   6   1   0   0   3]\n",
      " [  4   7  14 547   2   1   1   2]\n",
      " [  1   4   2   2 574   6   3   2]\n",
      " [  3   0   1   2   3 588   0   1]\n",
      " [  1   0   0   0   0   0 589   7]\n",
      " [  1   1   3   1   1   0   2 591]]\n",
      "Multinomial Naive Bayes TFIDF Accuracy Score: 0.9579459002535926\n"
     ]
    },
    {
     "ename": "ValueError",
     "evalue": "Input X must be non-negative",
     "output_type": "error",
     "traceback": [
      "\u001b[0;31m---------------------------------------------------------------------------\u001b[0m",
      "\u001b[0;31mValueError\u001b[0m                                Traceback (most recent call last)",
      "\u001b[0;32m<ipython-input-34-10e95e3800e4>\u001b[0m in \u001b[0;36m<module>\u001b[0;34m()\u001b[0m\n\u001b[1;32m      3\u001b[0m \u001b[0mlabels\u001b[0m \u001b[0;34m=\u001b[0m \u001b[0;34m[\u001b[0m\u001b[0;34m'TFIDF'\u001b[0m\u001b[0;34m,\u001b[0m \u001b[0;34m'LSI'\u001b[0m\u001b[0;34m,\u001b[0m \u001b[0;34m'NMF'\u001b[0m\u001b[0;34m]\u001b[0m\u001b[0;34m\u001b[0m\u001b[0m\n\u001b[1;32m      4\u001b[0m \u001b[0;32mfor\u001b[0m \u001b[0midx\u001b[0m\u001b[0;34m,\u001b[0m \u001b[0mx\u001b[0m \u001b[0;32min\u001b[0m \u001b[0menumerate\u001b[0m\u001b[0;34m(\u001b[0m\u001b[0mX_news\u001b[0m\u001b[0;34m)\u001b[0m\u001b[0;34m:\u001b[0m\u001b[0;34m\u001b[0m\u001b[0m\n\u001b[0;32m----> 5\u001b[0;31m     \u001b[0mmnb\u001b[0m\u001b[0;34m.\u001b[0m\u001b[0mfit\u001b[0m\u001b[0;34m(\u001b[0m\u001b[0mx\u001b[0m\u001b[0;34m,\u001b[0m \u001b[0my_news\u001b[0m\u001b[0;34m)\u001b[0m\u001b[0;34m\u001b[0m\u001b[0m\n\u001b[0m\u001b[1;32m      6\u001b[0m     \u001b[0mmnb_pred\u001b[0m \u001b[0;34m=\u001b[0m \u001b[0mmnb\u001b[0m\u001b[0;34m.\u001b[0m\u001b[0mpredict\u001b[0m\u001b[0;34m(\u001b[0m\u001b[0mx\u001b[0m\u001b[0;34m)\u001b[0m\u001b[0;34m\u001b[0m\u001b[0m\n\u001b[1;32m      7\u001b[0m     \u001b[0;31m#mnb_roc = roc_curve(y_true=y_news, y_score=mnb_pred)\u001b[0m\u001b[0;34m\u001b[0m\u001b[0;34m\u001b[0m\u001b[0m\n",
      "\u001b[0;32m/Library/Frameworks/Python.framework/Versions/3.6/lib/python3.6/site-packages/sklearn/naive_bayes.py\u001b[0m in \u001b[0;36mfit\u001b[0;34m(self, X, y, sample_weight)\u001b[0m\n\u001b[1;32m    602\u001b[0m         self.feature_count_ = np.zeros((n_effective_classes, n_features),\n\u001b[1;32m    603\u001b[0m                                        dtype=np.float64)\n\u001b[0;32m--> 604\u001b[0;31m         \u001b[0mself\u001b[0m\u001b[0;34m.\u001b[0m\u001b[0m_count\u001b[0m\u001b[0;34m(\u001b[0m\u001b[0mX\u001b[0m\u001b[0;34m,\u001b[0m \u001b[0mY\u001b[0m\u001b[0;34m)\u001b[0m\u001b[0;34m\u001b[0m\u001b[0m\n\u001b[0m\u001b[1;32m    605\u001b[0m         \u001b[0malpha\u001b[0m \u001b[0;34m=\u001b[0m \u001b[0mself\u001b[0m\u001b[0;34m.\u001b[0m\u001b[0m_check_alpha\u001b[0m\u001b[0;34m(\u001b[0m\u001b[0;34m)\u001b[0m\u001b[0;34m\u001b[0m\u001b[0m\n\u001b[1;32m    606\u001b[0m         \u001b[0mself\u001b[0m\u001b[0;34m.\u001b[0m\u001b[0m_update_feature_log_prob\u001b[0m\u001b[0;34m(\u001b[0m\u001b[0malpha\u001b[0m\u001b[0;34m)\u001b[0m\u001b[0;34m\u001b[0m\u001b[0m\n",
      "\u001b[0;32m/Library/Frameworks/Python.framework/Versions/3.6/lib/python3.6/site-packages/sklearn/naive_bayes.py\u001b[0m in \u001b[0;36m_count\u001b[0;34m(self, X, Y)\u001b[0m\n\u001b[1;32m    706\u001b[0m         \u001b[0;34m\"\"\"Count and smooth feature occurrences.\"\"\"\u001b[0m\u001b[0;34m\u001b[0m\u001b[0m\n\u001b[1;32m    707\u001b[0m         \u001b[0;32mif\u001b[0m \u001b[0mnp\u001b[0m\u001b[0;34m.\u001b[0m\u001b[0many\u001b[0m\u001b[0;34m(\u001b[0m\u001b[0;34m(\u001b[0m\u001b[0mX\u001b[0m\u001b[0;34m.\u001b[0m\u001b[0mdata\u001b[0m \u001b[0;32mif\u001b[0m \u001b[0missparse\u001b[0m\u001b[0;34m(\u001b[0m\u001b[0mX\u001b[0m\u001b[0;34m)\u001b[0m \u001b[0;32melse\u001b[0m \u001b[0mX\u001b[0m\u001b[0;34m)\u001b[0m \u001b[0;34m<\u001b[0m \u001b[0;36m0\u001b[0m\u001b[0;34m)\u001b[0m\u001b[0;34m:\u001b[0m\u001b[0;34m\u001b[0m\u001b[0m\n\u001b[0;32m--> 708\u001b[0;31m             \u001b[0;32mraise\u001b[0m \u001b[0mValueError\u001b[0m\u001b[0;34m(\u001b[0m\u001b[0;34m\"Input X must be non-negative\"\u001b[0m\u001b[0;34m)\u001b[0m\u001b[0;34m\u001b[0m\u001b[0m\n\u001b[0m\u001b[1;32m    709\u001b[0m         \u001b[0mself\u001b[0m\u001b[0;34m.\u001b[0m\u001b[0mfeature_count_\u001b[0m \u001b[0;34m+=\u001b[0m \u001b[0msafe_sparse_dot\u001b[0m\u001b[0;34m(\u001b[0m\u001b[0mY\u001b[0m\u001b[0;34m.\u001b[0m\u001b[0mT\u001b[0m\u001b[0;34m,\u001b[0m \u001b[0mX\u001b[0m\u001b[0;34m)\u001b[0m\u001b[0;34m\u001b[0m\u001b[0m\n\u001b[1;32m    710\u001b[0m         \u001b[0mself\u001b[0m\u001b[0;34m.\u001b[0m\u001b[0mclass_count_\u001b[0m \u001b[0;34m+=\u001b[0m \u001b[0mY\u001b[0m\u001b[0;34m.\u001b[0m\u001b[0msum\u001b[0m\u001b[0;34m(\u001b[0m\u001b[0maxis\u001b[0m\u001b[0;34m=\u001b[0m\u001b[0;36m0\u001b[0m\u001b[0;34m)\u001b[0m\u001b[0;34m\u001b[0m\u001b[0m\n",
      "\u001b[0;31mValueError\u001b[0m: Input X must be non-negative"
     ]
    }
   ],
   "source": [
    "# NaiveBayes classifier\n",
    "mnb = MultinomialNB()\n",
    "labels = ['TFIDF', 'LSI', 'NMF']\n",
    "for idx, x in enumerate(X_news):\n",
    "    mnb.fit(x, y_news)\n",
    "    mnb_pred = mnb.predict(x)\n",
    "    #mnb_roc = roc_curve(y_true=y_news, y_score=mnb_pred)\n",
    "    mnb_confusion = confusion_matrix(y_true=y_news, y_pred=mnb_pred)\n",
    "    mnb_accuracy = accuracy_score(y_true=y_news, y_pred=mnb_pred)\n",
    "    #mnb_recall = recall_score(y_true=y_news, y_pred=mnb_pred)\n",
    "    #mnb_precision = precision_score(y_true=y_news, y_pred=mnb_pred)\n",
    "    #mnb_f1 = f1_score(y_true=y_news, y_pred=mnb_pred)\n",
    "    #print(\"Multinomial Naive Bayes \" + labels[idx] + \" ROC curve: \" + str(mnb_roc))\n",
    "    print(\"Multinomial Naive Bayes \" + labels[idx] + \" Confusion matrix: \" + str(mnb_confusion))\n",
    "    print(\"Multinomial Naive Bayes \" + labels[idx] + \" Accuracy Score: \" + str(mnb_accuracy))\n",
    "    #print(\"Multinomial Naive Bayes \" + labels[idx] + \" Recall Score: \" + str(mnb_recall))\n",
    "    #print(\"Multinomial Naive Bayes \" + labels[idx] + \" Precision Score: \" + str(mnb_precision))\n",
    "    #print(\"Training-set SVC Best-gamma \" + labels[idx] + \" F1 Score: \" + str(mnb_f1))"
   ]
  },
  {
   "cell_type": "markdown",
   "metadata": {},
   "source": [
    "# Grid Search of Parameters"
   ]
  },
  {
   "cell_type": "code",
   "execution_count": 35,
   "metadata": {
    "collapsed": true
   },
   "outputs": [],
   "source": [
    "from sklearn.pipeline import Pipeline"
   ]
  },
  {
   "cell_type": "code",
   "execution_count": null,
   "metadata": {
    "collapsed": true
   },
   "outputs": [],
   "source": []
  },
  {
   "cell_type": "code",
   "execution_count": null,
   "metadata": {
    "collapsed": true
   },
   "outputs": [],
   "source": [
    "models = [sc=Standard,fe=, clf='']"
   ]
  },
  {
   "cell_type": "code",
   "execution_count": null,
   "metadata": {
    "collapsed": true
   },
   "outputs": [],
   "source": [
    "param_grid = [{'gamma':np.arange(0.001, 1000)},\n",
    "             {}\n",
    "             ] # edit to put in features to gridsearch"
   ]
  },
  {
   "cell_type": "code",
   "execution_count": null,
   "metadata": {
    "collapsed": true
   },
   "outputs": [],
   "source": [
    "pipe = Pipeline(models)"
   ]
  },
  {
   "cell_type": "code",
   "execution_count": null,
   "metadata": {
    "collapsed": true
   },
   "outputs": [],
   "source": [
    "\n",
    "pipeline1 = Pipeline([\n",
    "    ('vect', CountVectorizer(min_df=1, stop_words='english')),\n",
    "    ('tfidf', TfidfTransformer()),\n",
    "    ('reduce_dim', NMF(n_components=50, init='random', random_state=0)),\n",
    "    ('clf', MultinomialNB()),\n",
    "])\n",
    "pipeline2 = Pipeline([\n",
    "    ('vect', CountVectorizer(min_df=1, stop_words='english')),\n",
    "    ('tfidf', TfidfTransformer()),\n",
    "    ('reduce_dim', NMF(n_components=50, init='random', random_state=0)),\n",
    "    ('toarr', SparseToDenseArray()),\n",
    "    ('clf', GaussianNB()),\n",
    "])"
   ]
  },
  {
   "cell_type": "code",
   "execution_count": 261,
   "metadata": {
    "scrolled": false
   },
   "outputs": [
    {
     "name": "stdout",
     "output_type": "stream",
     "text": [
      "LSI method:\n",
      "(4732, 50)\n",
      "\n",
      "NMF method:\n",
      "(4732, 50)\n",
      "\n"
     ]
    }
   ],
   "source": [
    "pipe.fit(X_train_tfidf) # example"
   ]
  },
  {
   "cell_type": "code",
   "execution_count": null,
   "metadata": {
    "collapsed": true
   },
   "outputs": [],
   "source": [
    "# used to cache results\n",
    "from tempfile import mkdtemp\n",
    "from shutil import rmtree\n",
    "from sklearn.externals.joblib import Memory\n",
    "\n",
    "cachedir = mkdtemp()\n",
    "\n",
    "param_grid = [\n",
    "    {\n",
    "        'reduce_dim': [TruncatedSVD(), NMF()],\n",
    "        'reduce_dim__n_components': N_FEATURES_OPTIONS,\n",
    "        'clf': [LinearSVC()],\n",
    "        'clf__C': C_OPTIONS\n",
    "    },\n",
    "    {\n",
    "        'reduce_dim': [TruncatedSVD(), NMF()],\n",
    "        'reduce_dim__n_components': N_FEATURES_OPTIONS,\n",
    "        'clf': [GaussianNB()],\n",
    "#         'clf__C': C_OPTIONS\n",
    "    },\n",
    "]\n",
    "# reducer_labels = ['LinearSVC', 'NMF', 'KBest(chi2)']\n",
    "\n",
    "grid = GridSearchCV(pipeline, cv=3, n_jobs=1, param_grid=param_grid, scoring='accuracy')\n",
    "grid.fit(twenty_train.data, twenty_train.target)\n",
    "rmtree(cachedir)"
   ]
  },
  {
   "cell_type": "markdown",
   "metadata": {},
   "source": [
    "# Multiclass Classification\n",
    "\n"
   ]
  },
  {
   "cell_type": "code",
   "execution_count": 37,
   "metadata": {
    "collapsed": true
   },
   "outputs": [],
   "source": [
    "from sklearn.datasets import fetch_20newsgroups"
   ]
  },
  {
   "cell_type": "code",
   "execution_count": 44,
   "metadata": {
    "collapsed": true
   },
   "outputs": [],
   "source": [
    "\n",
    "# 1. get categories\n",
    "multi_categories = ['comp.sys.ibm.pc.hardware', 'comp.sys.mac.hardware', 'misc.forsale', 'soc.religion.christian']\n",
    "# 2. clean dataset, tokenize, remove stop words and punctuation, and stem\n",
    "multi_data = fetch_20newsgroups(subset='train', categories=multi_categories, shuffle=True, random_state=42)\n",
    "multi_data_cleaned = vectorizer.fit_transform(multi_data.data)"
   ]
  },
  {
   "cell_type": "code",
   "execution_count": 42,
   "metadata": {},
   "outputs": [
    {
     "ename": "NameError",
     "evalue": "name 'multi_data_cleaned' is not defined",
     "output_type": "error",
     "traceback": [
      "\u001b[0;31m---------------------------------------------------------------------------\u001b[0m",
      "\u001b[0;31mNameError\u001b[0m                                 Traceback (most recent call last)",
      "\u001b[0;32m<ipython-input-42-31cbca0be23f>\u001b[0m in \u001b[0;36m<module>\u001b[0;34m()\u001b[0m\n\u001b[0;32m----> 1\u001b[0;31m \u001b[0mmulticlass_data\u001b[0m \u001b[0;34m=\u001b[0m \u001b[0mmulti_data_cleaned\u001b[0m\u001b[0;34m\u001b[0m\u001b[0m\n\u001b[0m\u001b[1;32m      2\u001b[0m \u001b[0;31m# transform data for TFIDF, LSI, NMF comparison\u001b[0m\u001b[0;34m\u001b[0m\u001b[0;34m\u001b[0m\u001b[0m\n\u001b[1;32m      3\u001b[0m \u001b[0mtfidf_multi\u001b[0m \u001b[0;34m=\u001b[0m \u001b[0mtfidf\u001b[0m\u001b[0;34m.\u001b[0m\u001b[0mfit_transform\u001b[0m\u001b[0;34m(\u001b[0m\u001b[0mmulticlass_data\u001b[0m\u001b[0;34m)\u001b[0m\u001b[0;34m.\u001b[0m\u001b[0mtoarray\u001b[0m\u001b[0;34m(\u001b[0m\u001b[0;34m)\u001b[0m\u001b[0;34m\u001b[0m\u001b[0m\n\u001b[1;32m      4\u001b[0m \u001b[0mlsi_multi\u001b[0m \u001b[0;34m=\u001b[0m \u001b[0mlsi\u001b[0m\u001b[0;34m.\u001b[0m\u001b[0mfit_transform\u001b[0m\u001b[0;34m(\u001b[0m\u001b[0mmulticlass_data\u001b[0m\u001b[0;34m)\u001b[0m\u001b[0;34m\u001b[0m\u001b[0m\n\u001b[1;32m      5\u001b[0m \u001b[0mnmf_multi\u001b[0m \u001b[0;34m=\u001b[0m \u001b[0mnmf\u001b[0m\u001b[0;34m.\u001b[0m\u001b[0mfit_transform\u001b[0m\u001b[0;34m(\u001b[0m\u001b[0mmulticlass_data\u001b[0m\u001b[0;34m)\u001b[0m\u001b[0;34m\u001b[0m\u001b[0m\n",
      "\u001b[0;31mNameError\u001b[0m: name 'multi_data_cleaned' is not defined"
     ]
    }
   ],
   "source": [
    "multiclass_data = multi_data_cleaned\n",
    "# transform data for TFIDF, LSI, NMF comparison\n",
    "tfidf_multi = tfidf.fit_transform(multiclass_data).toarray()\n",
    "lsi_multi = lsi.fit_transform(multiclass_data)\n",
    "nmf_multi = nmf.fit_transform(multiclass_data)"
   ]
  },
  {
   "cell_type": "code",
   "execution_count": null,
   "metadata": {
    "collapsed": true
   },
   "outputs": [],
   "source": [
    "X_multi = [tfidf_multi, lsi_multi, nmf_multi]\n",
    "y_multi = multi_data.target"
   ]
  },
  {
   "cell_type": "code",
   "execution_count": null,
   "metadata": {
    "collapsed": true
   },
   "outputs": [],
   "source": [
    "\n",
    "# Naive Bayes\n",
    "multiclass_NB = MultinomialNB()\n",
    "labels = ['TFIDF', 'LSI', 'NMF']\n",
    "for idx, x in enumerate(X_multi):\n",
    "    multiclass_NB.fit(x, y_multi)\n",
    "    multiclass_NB_pred = multiclass_NB.predict(x)\n",
    "    multiclass_NB_roc = roc_curve(y_true=y_multi, y_score=multiclass_NB_pred)\n",
    "    multiclass_NB_confusion = confusion_matrix(y_true=y_multi, y_pred=multiclass_NB_pred)\n",
    "    multiclass_NB_accuracy = accuracy_score(y_true=y_multi, y_pred=multiclass_NB_pred)\n",
    "    multiclass_NB_recall = recall_score(y_true=y_multi, y_pred=multiclass_NB_pred)\n",
    "    multiclass_NB_precision = precision_score(y_true=y_multi, y_pred=multiclass_NB_pred)\n",
    "    multiclass_NB_f1 = f1_score(y_true=y_multi, y_pred=multiclass_NB_pred)\n",
    "    print(\"Multiclass NaiveBayes \" + labels[idx] + \" ROC curve: \" + multiclass_NB_roc)\n",
    "    print(\"Multiclass NaiveBayes \" + labels[idx] + \" Confusion matrix: \" + multiclass_NB_confusion)\n",
    "    print(\"Multiclass NaiveBayes \" + labels[idx] + \" Accuracy Score: \" + multiclass_NB_accuracy)\n",
    "    print(\"Multiclass NaiveBayes \" + labels[idx] + \" Recall Score: \" + multiclass_NB_recall)\n",
    "    print(\"Multiclass NaiveBayes \" + labels[idx] + \" Precision Score: \" + multiclass_NB_precision)\n",
    "    print(\"Multiclass NaiveBayes \" + labels[idx] + \" f1 Score: \" + multiclass_NB_f1)\n",
    "\n",
    "\n"
   ]
  },
  {
   "cell_type": "code",
   "execution_count": null,
   "metadata": {
    "collapsed": true
   },
   "outputs": [],
   "source": []
  },
  {
   "cell_type": "code",
   "execution_count": 66,
   "metadata": {
    "collapsed": true
   },
   "outputs": [],
   "source": []
  },
  {
   "cell_type": "code",
   "execution_count": null,
   "metadata": {
    "collapsed": true
   },
   "outputs": [],
   "source": []
  },
  {
   "cell_type": "code",
   "execution_count": 43,
   "metadata": {
    "collapsed": true
   },
   "outputs": [],
   "source": []
  },
  {
   "cell_type": "code",
   "execution_count": 50,
   "metadata": {
    "collapsed": true
   },
   "outputs": [],
   "source": []
  },
  {
   "cell_type": "code",
   "execution_count": null,
   "metadata": {
    "collapsed": true
   },
   "outputs": [],
   "source": []
  },
  {
   "cell_type": "code",
   "execution_count": null,
   "metadata": {
    "collapsed": true
   },
   "outputs": [],
   "source": []
  },
  {
   "cell_type": "code",
   "execution_count": null,
   "metadata": {
    "collapsed": true
   },
   "outputs": [],
   "source": []
  },
  {
   "cell_type": "code",
   "execution_count": null,
   "metadata": {
    "collapsed": true
   },
   "outputs": [],
   "source": []
  },
  {
   "cell_type": "code",
   "execution_count": null,
   "metadata": {
    "collapsed": true
   },
   "outputs": [],
   "source": []
  },
  {
   "cell_type": "code",
   "execution_count": null,
   "metadata": {
    "collapsed": true
   },
   "outputs": [],
   "source": []
  }
 ],
 "metadata": {
  "kernelspec": {
   "display_name": "Python 3",
   "language": "python",
   "name": "python3"
  },
  "language_info": {
   "codemirror_mode": {
    "name": "ipython",
    "version": 3
   },
   "file_extension": ".py",
   "mimetype": "text/x-python",
   "name": "python",
   "nbconvert_exporter": "python",
   "pygments_lexer": "ipython3",
   "version": "3.6.1"
  }
 },
 "nbformat": 4,
 "nbformat_minor": 2
}
